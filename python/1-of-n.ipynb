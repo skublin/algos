{
 "cells": [
  {
   "cell_type": "code",
   "execution_count": 3,
   "id": "1b27d2c2-02f8-4cbb-ac59-903a4f22e8a8",
   "metadata": {},
   "outputs": [],
   "source": [
    "import re\n",
    "import string\n",
    "import pandas as pd"
   ]
  },
  {
   "cell_type": "code",
   "execution_count": 35,
   "id": "0060cbae-fa4b-495e-a8b9-58bc121fe02e",
   "metadata": {},
   "outputs": [
    {
     "name": "stdout",
     "output_type": "stream",
     "text": [
      "['the', 'bat', 'sat', 'on', 'the', 'cat', '']\n"
     ]
    }
   ],
   "source": [
    "text = \"The bat sat on the cat.\"\n",
    "pattern = re.compile('[\\W_]+')\n",
    "t = pattern.sub(' ', text)\n",
    "print(t.lower().split(' '))\n",
    "# clean_text = only words, lowercase\n",
    "# columns = words in text\n",
    "# rows = set(clean_text)\n"
   ]
  },
  {
   "cell_type": "code",
   "execution_count": null,
   "id": "e9b56057-988b-45f1-b9b4-a9a799175d9f",
   "metadata": {},
   "outputs": [],
   "source": []
  }
 ],
 "metadata": {
  "kernelspec": {
   "display_name": "Python 3 (ipykernel)",
   "language": "python",
   "name": "python3"
  },
  "language_info": {
   "codemirror_mode": {
    "name": "ipython",
    "version": 3
   },
   "file_extension": ".py",
   "mimetype": "text/x-python",
   "name": "python",
   "nbconvert_exporter": "python",
   "pygments_lexer": "ipython3",
   "version": "3.10.8"
  }
 },
 "nbformat": 4,
 "nbformat_minor": 5
}
